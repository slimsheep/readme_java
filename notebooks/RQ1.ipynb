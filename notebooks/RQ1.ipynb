{
 "cells": [
  {
   "cell_type": "code",
   "execution_count": 1,
   "id": "9a01f501",
   "metadata": {},
   "outputs": [],
   "source": [
    "import pandas as pd\n",
    "import numpy as np\n",
    "pd.set_option('display.max_columns', None)  \n",
    "pd.set_option('display.expand_frame_repr', False)\n",
    "pd.set_option('max_colwidth', None)\n",
    "\n",
    "\n",
    "import matplotlib.cm as cm\n",
    "\n",
    "import matplotlib.pyplot as plt\n",
    "\n",
    "from scipy import stats\n",
    "import seaborn as sns\n",
    "\n",
    "import sys\n",
    "import inspect\n",
    "import types\n",
    "\n",
    "import scipy.cluster.hierarchy as spc"
   ]
  },
  {
   "cell_type": "code",
   "execution_count": 2,
   "id": "17c99ff8",
   "metadata": {},
   "outputs": [],
   "source": [
    "df_java = pd.read_csv('../metrics_nonezero_nonefork_v7.csv', index_col=0)"
   ]
  },
  {
   "cell_type": "code",
   "execution_count": 3,
   "id": "d085443d",
   "metadata": {},
   "outputs": [],
   "source": [
    "df_java = df_java.reset_index(drop=True)"
   ]
  },
  {
   "cell_type": "code",
   "execution_count": 4,
   "id": "0674def1",
   "metadata": {},
   "outputs": [
    {
     "data": {
      "text/plain": [
       "(14901, 42)"
      ]
     },
     "execution_count": 4,
     "metadata": {},
     "output_type": "execute_result"
    }
   ],
   "source": [
    "df_java.shape"
   ]
  },
  {
   "cell_type": "code",
   "execution_count": null,
   "id": "f1cf6909",
   "metadata": {},
   "outputs": [],
   "source": []
  },
  {
   "cell_type": "code",
   "execution_count": 5,
   "id": "6e7c96a0",
   "metadata": {},
   "outputs": [],
   "source": [
    "def prepare_df_metrics(df):\n",
    "    df_java_log = df.copy()\n",
    "    #   df_java_log.stars = np.log(df_java_log.stars)\n",
    "\n",
    "    #   df_java_project_name = df_java_log.copy()\n",
    "    #   df_java_project_name['metrics'] = 'project_name'\n",
    "    #   df_java_project_name['follow'] = df_java_project_name.project_name_header_kw == 1\n",
    "\n",
    "    df_java_description = df_java_log.copy()\n",
    "    df_java_description['metrics'] = 'Description'\n",
    "    df_java_description['follow'] = df_java_description.apply(\n",
    "        lambda x: True if x.project_name_header_non_empty == 1 or x.description_header_kw == 1 else False, axis=1)\n",
    "\n",
    "    df_java_content = df_java_log.copy()\n",
    "    df_java_content['metrics'] = 'Table of Content'\n",
    "    df_java_content['follow'] = df_java_content.content_header_kw == 1\n",
    "\n",
    "    df_java_installation = df_java_log.copy()\n",
    "    df_java_installation['metrics'] = 'Installation'\n",
    "    df_java_installation['follow'] = df_java_installation.apply(lambda x: True if x.install_header_kw == 1 else False,\n",
    "                                                                axis=1)\n",
    "\n",
    "    df_java_usage = df_java_log.copy()\n",
    "    df_java_usage['metrics'] = 'Usage'\n",
    "    df_java_usage['follow'] = df_java_usage.apply(lambda\n",
    "                                                      x: True if x.usage_header_kw == 1 or x.example_header_kw == 1 or x.document_header_kw == 1 or x.troubleshoot_header_kw == 1 else False,\n",
    "                                                  axis=1)\n",
    "\n",
    "    df_java_contributing = df_java_log.copy()\n",
    "    df_java_contributing['metrics'] = 'Contributing'\n",
    "    df_java_contributing['follow'] = df_java_contributing.apply(lambda x: True if x.contribut_header_kw == 1 else False,\n",
    "                                                                axis=1)\n",
    "\n",
    "    df_java_credit = df_java_log.copy()\n",
    "    df_java_credit['metrics'] = 'Credit'\n",
    "    df_java_credit['follow'] = df_java_credit.apply(\n",
    "        lambda x: True if x.credit_header_kw == 1 or x.author_header_kw == 1 else False, axis=1)\n",
    "\n",
    "    df_java_license = df_java_log.copy()\n",
    "    df_java_license['metrics'] = 'License'\n",
    "    df_java_license['follow'] = df_java_license.license_header_kw == 1\n",
    "\n",
    "    return pd.concat([df_java_description, df_java_content, df_java_installation, df_java_usage, df_java_contributing,\n",
    "                      df_java_credit, df_java_license], axis=0)\n"
   ]
  },
  {
   "cell_type": "code",
   "execution_count": 42,
   "id": "01b53dc8",
   "metadata": {},
   "outputs": [
    {
     "data": {
      "text/html": [
       "<div>\n",
       "<style scoped>\n",
       "    .dataframe tbody tr th:only-of-type {\n",
       "        vertical-align: middle;\n",
       "    }\n",
       "\n",
       "    .dataframe tbody tr th {\n",
       "        vertical-align: top;\n",
       "    }\n",
       "\n",
       "    .dataframe thead th {\n",
       "        text-align: right;\n",
       "    }\n",
       "</style>\n",
       "<table border=\"1\" class=\"dataframe\">\n",
       "  <thead>\n",
       "    <tr style=\"text-align: right;\">\n",
       "      <th></th>\n",
       "      <th></th>\n",
       "      <th>count</th>\n",
       "      <th>mean</th>\n",
       "      <th>std</th>\n",
       "      <th>min</th>\n",
       "      <th>25%</th>\n",
       "      <th>50%</th>\n",
       "      <th>75%</th>\n",
       "      <th>max</th>\n",
       "    </tr>\n",
       "    <tr>\n",
       "      <th>metrics</th>\n",
       "      <th>follow</th>\n",
       "      <th></th>\n",
       "      <th></th>\n",
       "      <th></th>\n",
       "      <th></th>\n",
       "      <th></th>\n",
       "      <th></th>\n",
       "      <th></th>\n",
       "      <th></th>\n",
       "    </tr>\n",
       "  </thead>\n",
       "  <tbody>\n",
       "    <tr>\n",
       "      <th rowspan=\"2\" valign=\"top\">Contributing</th>\n",
       "      <th>False</th>\n",
       "      <td>10974.0</td>\n",
       "      <td>43.237106</td>\n",
       "      <td>525.838431</td>\n",
       "      <td>1.0</td>\n",
       "      <td>1.0</td>\n",
       "      <td>2.0</td>\n",
       "      <td>6.00</td>\n",
       "      <td>39634.0</td>\n",
       "    </tr>\n",
       "    <tr>\n",
       "      <th>True</th>\n",
       "      <td>620.0</td>\n",
       "      <td>215.840323</td>\n",
       "      <td>962.950260</td>\n",
       "      <td>1.0</td>\n",
       "      <td>2.0</td>\n",
       "      <td>9.0</td>\n",
       "      <td>59.25</td>\n",
       "      <td>17357.0</td>\n",
       "    </tr>\n",
       "    <tr>\n",
       "      <th rowspan=\"2\" valign=\"top\">Credit</th>\n",
       "      <th>False</th>\n",
       "      <td>11188.0</td>\n",
       "      <td>50.155613</td>\n",
       "      <td>561.973699</td>\n",
       "      <td>1.0</td>\n",
       "      <td>1.0</td>\n",
       "      <td>2.0</td>\n",
       "      <td>7.00</td>\n",
       "      <td>39634.0</td>\n",
       "    </tr>\n",
       "    <tr>\n",
       "      <th>True</th>\n",
       "      <td>406.0</td>\n",
       "      <td>116.167488</td>\n",
       "      <td>473.606944</td>\n",
       "      <td>1.0</td>\n",
       "      <td>2.0</td>\n",
       "      <td>5.0</td>\n",
       "      <td>27.75</td>\n",
       "      <td>5030.0</td>\n",
       "    </tr>\n",
       "    <tr>\n",
       "      <th rowspan=\"2\" valign=\"top\">Description</th>\n",
       "      <th>False</th>\n",
       "      <td>6864.0</td>\n",
       "      <td>39.772145</td>\n",
       "      <td>545.511420</td>\n",
       "      <td>1.0</td>\n",
       "      <td>1.0</td>\n",
       "      <td>2.0</td>\n",
       "      <td>6.00</td>\n",
       "      <td>39634.0</td>\n",
       "    </tr>\n",
       "    <tr>\n",
       "      <th>True</th>\n",
       "      <td>4730.0</td>\n",
       "      <td>70.889852</td>\n",
       "      <td>578.120961</td>\n",
       "      <td>1.0</td>\n",
       "      <td>1.0</td>\n",
       "      <td>2.0</td>\n",
       "      <td>8.00</td>\n",
       "      <td>18653.0</td>\n",
       "    </tr>\n",
       "    <tr>\n",
       "      <th rowspan=\"2\" valign=\"top\">Installation</th>\n",
       "      <th>False</th>\n",
       "      <td>9196.0</td>\n",
       "      <td>38.037734</td>\n",
       "      <td>522.586974</td>\n",
       "      <td>1.0</td>\n",
       "      <td>1.0</td>\n",
       "      <td>2.0</td>\n",
       "      <td>5.00</td>\n",
       "      <td>39634.0</td>\n",
       "    </tr>\n",
       "    <tr>\n",
       "      <th>True</th>\n",
       "      <td>2398.0</td>\n",
       "      <td>107.802335</td>\n",
       "      <td>679.020098</td>\n",
       "      <td>1.0</td>\n",
       "      <td>1.0</td>\n",
       "      <td>5.0</td>\n",
       "      <td>24.00</td>\n",
       "      <td>18653.0</td>\n",
       "    </tr>\n",
       "    <tr>\n",
       "      <th rowspan=\"2\" valign=\"top\">License</th>\n",
       "      <th>False</th>\n",
       "      <td>10123.0</td>\n",
       "      <td>34.633508</td>\n",
       "      <td>497.552466</td>\n",
       "      <td>1.0</td>\n",
       "      <td>1.0</td>\n",
       "      <td>2.0</td>\n",
       "      <td>5.00</td>\n",
       "      <td>39634.0</td>\n",
       "    </tr>\n",
       "    <tr>\n",
       "      <th>True</th>\n",
       "      <td>1471.0</td>\n",
       "      <td>175.193746</td>\n",
       "      <td>862.839848</td>\n",
       "      <td>1.0</td>\n",
       "      <td>2.0</td>\n",
       "      <td>8.0</td>\n",
       "      <td>54.00</td>\n",
       "      <td>18653.0</td>\n",
       "    </tr>\n",
       "    <tr>\n",
       "      <th rowspan=\"2\" valign=\"top\">Table of Content</th>\n",
       "      <th>False</th>\n",
       "      <td>11417.0</td>\n",
       "      <td>48.874485</td>\n",
       "      <td>532.521187</td>\n",
       "      <td>1.0</td>\n",
       "      <td>1.0</td>\n",
       "      <td>2.0</td>\n",
       "      <td>7.00</td>\n",
       "      <td>39634.0</td>\n",
       "    </tr>\n",
       "    <tr>\n",
       "      <th>True</th>\n",
       "      <td>177.0</td>\n",
       "      <td>284.209040</td>\n",
       "      <td>1466.631688</td>\n",
       "      <td>1.0</td>\n",
       "      <td>1.0</td>\n",
       "      <td>4.0</td>\n",
       "      <td>22.00</td>\n",
       "      <td>13209.0</td>\n",
       "    </tr>\n",
       "    <tr>\n",
       "      <th rowspan=\"2\" valign=\"top\">Usage</th>\n",
       "      <th>False</th>\n",
       "      <td>7979.0</td>\n",
       "      <td>25.966161</td>\n",
       "      <td>477.774481</td>\n",
       "      <td>1.0</td>\n",
       "      <td>1.0</td>\n",
       "      <td>2.0</td>\n",
       "      <td>4.00</td>\n",
       "      <td>39634.0</td>\n",
       "    </tr>\n",
       "    <tr>\n",
       "      <th>True</th>\n",
       "      <td>3615.0</td>\n",
       "      <td>110.960166</td>\n",
       "      <td>703.078137</td>\n",
       "      <td>1.0</td>\n",
       "      <td>1.0</td>\n",
       "      <td>4.0</td>\n",
       "      <td>21.00</td>\n",
       "      <td>18653.0</td>\n",
       "    </tr>\n",
       "  </tbody>\n",
       "</table>\n",
       "</div>"
      ],
      "text/plain": [
       "                           count        mean          std  min  25%  50%    75%      max\n",
       "metrics          follow                                                                 \n",
       "Contributing     False   10974.0   43.237106   525.838431  1.0  1.0  2.0   6.00  39634.0\n",
       "                 True      620.0  215.840323   962.950260  1.0  2.0  9.0  59.25  17357.0\n",
       "Credit           False   11188.0   50.155613   561.973699  1.0  1.0  2.0   7.00  39634.0\n",
       "                 True      406.0  116.167488   473.606944  1.0  2.0  5.0  27.75   5030.0\n",
       "Description      False    6864.0   39.772145   545.511420  1.0  1.0  2.0   6.00  39634.0\n",
       "                 True     4730.0   70.889852   578.120961  1.0  1.0  2.0   8.00  18653.0\n",
       "Installation     False    9196.0   38.037734   522.586974  1.0  1.0  2.0   5.00  39634.0\n",
       "                 True     2398.0  107.802335   679.020098  1.0  1.0  5.0  24.00  18653.0\n",
       "License          False   10123.0   34.633508   497.552466  1.0  1.0  2.0   5.00  39634.0\n",
       "                 True     1471.0  175.193746   862.839848  1.0  2.0  8.0  54.00  18653.0\n",
       "Table of Content False   11417.0   48.874485   532.521187  1.0  1.0  2.0   7.00  39634.0\n",
       "                 True      177.0  284.209040  1466.631688  1.0  1.0  4.0  22.00  13209.0\n",
       "Usage            False    7979.0   25.966161   477.774481  1.0  1.0  2.0   4.00  39634.0\n",
       "                 True     3615.0  110.960166   703.078137  1.0  1.0  4.0  21.00  18653.0"
      ]
     },
     "execution_count": 42,
     "metadata": {},
     "output_type": "execute_result"
    }
   ],
   "source": [
    "df_data_raw = df_java[df_java.isEnglishReadme==1]\n",
    "df_data = prepare_df_metrics(df_data_raw)\n",
    "df_data.groupby(['metrics','follow']).stars.describe()"
   ]
  },
  {
   "cell_type": "code",
   "execution_count": null,
   "id": "49a893fb",
   "metadata": {},
   "outputs": [],
   "source": []
  },
  {
   "cell_type": "code",
   "execution_count": 33,
   "id": "be9e9ca1",
   "metadata": {},
   "outputs": [],
   "source": [
    "def gh_guidelines_description_stars(df):\n",
    "    # Description\n",
    "    t = df.copy()\n",
    "    t['description'] = t.apply(\n",
    "        lambda x: 1 if x.project_name_header_non_empty == 1 or x.description_header_kw == 1 else 0, axis=1)\n",
    "    #   t['description'] = t.apply(lambda x: 1 if x.project_name_header_non_empty == 1 or x.description_header_kw == 1 or x.feature_header_kw == 1 else 0, axis = 1)\n",
    "    #   t['description'] = t.apply(lambda x: 1 if x.description_header_kw == 1 else 0, axis = 1)\n",
    "    #   return t.groupby('description').stars.describe()\n",
    "\n",
    "    gb = t.groupby('description')\n",
    "    values_per_group = {col_name: col for col_name, col in gb.stars}\n",
    "    group_0 = values_per_group[0]\n",
    "    group_1 = values_per_group[1]\n",
    "\n",
    "    return pd.Series([group_0.size, group_1.size, np.mean(group_1) - np.mean(group_0),\n",
    "                      stats.ranksums(group_0.values, group_1.values).pvalue], index=col_names)\n",
    "\n",
    "\n",
    "def gh_guidelines_content_stars(df):\n",
    "    # Content\n",
    "    #   return df.groupby('content_header_kw').stars.describe()\n",
    "\n",
    "    gb = df.groupby('content_header_kw')\n",
    "    values_per_group = {col_name: col for col_name, col in gb.stars}\n",
    "    group_0 = values_per_group[0]\n",
    "    group_1 = values_per_group[1]\n",
    "\n",
    "    return pd.Series([group_0.size, group_1.size, np.mean(group_1) - np.mean(group_0),\n",
    "                      stats.ranksums(group_0.values, group_1.values).pvalue], index=col_names)\n",
    "\n",
    "\n",
    "def gh_guidelines_installation_stars(df):\n",
    "    # Installation\n",
    "    t = df.copy()\n",
    "    t['installation'] = t.apply(lambda x: 1 if x.install_header_kw == 1 else 0, axis=1)\n",
    "    #   return t.groupby('installation').stars.describe()\n",
    "\n",
    "    gb = t.groupby('installation')\n",
    "    values_per_group = {col_name: col for col_name, col in gb.stars}\n",
    "    group_0 = values_per_group[0]\n",
    "    group_1 = values_per_group[1]\n",
    "\n",
    "    return pd.Series([group_0.size, group_1.size, np.mean(group_1) - np.mean(group_0),\n",
    "                      stats.ranksums(group_0.values, group_1.values).pvalue], index=col_names)\n",
    "\n",
    "\n",
    "def gh_guidelines_usage_stars(df):\n",
    "    # Usage\n",
    "    t = df.copy()\n",
    "    t['usage'] = t.apply(lambda\n",
    "                             x: 1 if x.usage_header_kw == 1 or x.example_header_kw == 1 or x.document_header_kw == 1 or x.troubleshoot_header_kw == 1 else 0,\n",
    "                         axis=1)\n",
    "    #   return t.groupby('usage').stars.describe()\n",
    "\n",
    "    gb = t.groupby('usage')\n",
    "    values_per_group = {col_name: col for col_name, col in gb.stars}\n",
    "    group_0 = values_per_group[0]\n",
    "    group_1 = values_per_group[1]\n",
    "\n",
    "    return pd.Series([group_0.size, group_1.size, np.mean(group_1) - np.mean(group_0),\n",
    "                      stats.ranksums(group_0.values, group_1.values).pvalue], index=col_names)\n",
    "\n",
    "\n",
    "def gh_guidelines_contributing_stars(df):\n",
    "    # Contributing\n",
    "    t = df.copy()\n",
    "    t['contribution'] = t.apply(lambda x: 1 if x.contribut_header_kw == 1 else 0, axis=1)\n",
    "    #   return t.groupby('contribution').stars.describe()\n",
    "\n",
    "    gb = t.groupby('contribution')\n",
    "    values_per_group = {col_name: col for col_name, col in gb.stars}\n",
    "    group_0 = values_per_group[0]\n",
    "    group_1 = values_per_group[1]\n",
    "\n",
    "    return pd.Series([group_0.size, group_1.size, np.mean(group_1) - np.mean(group_0),\n",
    "                      stats.ranksums(group_0.values, group_1.values).pvalue], index=col_names)\n",
    "\n",
    "\n",
    "def gh_guidelines_credicts_stars(df):\n",
    "    # Credicts\n",
    "    t = df.copy()\n",
    "    t['credits'] = t.apply(lambda x: 1 if x.credit_header_kw == 1 or x.author_header_kw == 1 else 0, axis=1)\n",
    "    #   return t.groupby('credits').stars.describe()\n",
    "\n",
    "    gb = t.groupby('credits')\n",
    "    values_per_group = {col_name: col for col_name, col in gb.stars}\n",
    "    group_0 = values_per_group[0]\n",
    "    group_1 = values_per_group[1]\n",
    "\n",
    "    return pd.Series([group_0.size, group_1.size, np.mean(group_1) - np.mean(group_0),\n",
    "                      stats.ranksums(group_0.values, group_1.values).pvalue], index=col_names)\n",
    "\n",
    "\n",
    "def gh_guidelines_license_stars(df):\n",
    "    # License\n",
    "    #   return df.groupby('license_header_kw').stars.describe()\n",
    "\n",
    "    gb = df.groupby('license_header_kw')\n",
    "    values_per_group = {col_name: col for col_name, col in gb.stars}\n",
    "    group_0 = values_per_group[0]\n",
    "    group_1 = values_per_group[1]\n",
    "\n",
    "    return pd.Series([group_0.size, group_1.size, np.mean(group_1) - np.mean(group_0),\n",
    "                      stats.ranksums(group_0.values, group_1.values).pvalue], index=col_names)\n"
   ]
  },
  {
   "cell_type": "code",
   "execution_count": 34,
   "id": "e88b90d7",
   "metadata": {},
   "outputs": [],
   "source": [
    "col_names = ['not_follow', 'follow', 'difference in mean', 'Wilcoxon $p$']"
   ]
  },
  {
   "cell_type": "code",
   "execution_count": 46,
   "id": "c521970b",
   "metadata": {},
   "outputs": [],
   "source": [
    "def plot_guidelines_table(data):\n",
    "    return pd.DataFrame({ \n",
    "                'Description':gh_guidelines_description_stars(data),\n",
    "                'Content':gh_guidelines_content_stars(data),\n",
    "                'Installation':gh_guidelines_installation_stars(data),\n",
    "                'Usage':gh_guidelines_usage_stars(data),\n",
    "                'Contributing':gh_guidelines_contributing_stars(data),\n",
    "                'Credicts':gh_guidelines_credicts_stars(data), \n",
    "                'License':gh_guidelines_license_stars(data)})"
   ]
  },
  {
   "cell_type": "code",
   "execution_count": 47,
   "id": "9fc0def7",
   "metadata": {},
   "outputs": [
    {
     "data": {
      "text/html": [
       "<div>\n",
       "<style scoped>\n",
       "    .dataframe tbody tr th:only-of-type {\n",
       "        vertical-align: middle;\n",
       "    }\n",
       "\n",
       "    .dataframe tbody tr th {\n",
       "        vertical-align: top;\n",
       "    }\n",
       "\n",
       "    .dataframe thead th {\n",
       "        text-align: right;\n",
       "    }\n",
       "</style>\n",
       "<table border=\"1\" class=\"dataframe\">\n",
       "  <thead>\n",
       "    <tr style=\"text-align: right;\">\n",
       "      <th></th>\n",
       "      <th>not_follow</th>\n",
       "      <th>follow</th>\n",
       "      <th>difference in mean</th>\n",
       "      <th>Wilcoxon $p$</th>\n",
       "    </tr>\n",
       "  </thead>\n",
       "  <tbody>\n",
       "    <tr>\n",
       "      <th>Description</th>\n",
       "      <td>6864.0</td>\n",
       "      <td>4730.0</td>\n",
       "      <td>31.117707</td>\n",
       "      <td>3.073677e-04</td>\n",
       "    </tr>\n",
       "    <tr>\n",
       "      <th>Content</th>\n",
       "      <td>11417.0</td>\n",
       "      <td>177.0</td>\n",
       "      <td>235.334554</td>\n",
       "      <td>5.688149e-07</td>\n",
       "    </tr>\n",
       "    <tr>\n",
       "      <th>Installation</th>\n",
       "      <td>9196.0</td>\n",
       "      <td>2398.0</td>\n",
       "      <td>69.764601</td>\n",
       "      <td>2.431708e-122</td>\n",
       "    </tr>\n",
       "    <tr>\n",
       "      <th>Usage</th>\n",
       "      <td>7979.0</td>\n",
       "      <td>3615.0</td>\n",
       "      <td>84.994005</td>\n",
       "      <td>1.496760e-161</td>\n",
       "    </tr>\n",
       "    <tr>\n",
       "      <th>Contributing</th>\n",
       "      <td>10974.0</td>\n",
       "      <td>620.0</td>\n",
       "      <td>172.603217</td>\n",
       "      <td>6.975787e-68</td>\n",
       "    </tr>\n",
       "    <tr>\n",
       "      <th>Credicts</th>\n",
       "      <td>11188.0</td>\n",
       "      <td>406.0</td>\n",
       "      <td>66.011875</td>\n",
       "      <td>7.617424e-23</td>\n",
       "    </tr>\n",
       "    <tr>\n",
       "      <th>License</th>\n",
       "      <td>10123.0</td>\n",
       "      <td>1471.0</td>\n",
       "      <td>140.560238</td>\n",
       "      <td>5.557509e-147</td>\n",
       "    </tr>\n",
       "  </tbody>\n",
       "</table>\n",
       "</div>"
      ],
      "text/plain": [
       "              not_follow  follow  difference in mean   Wilcoxon $p$\n",
       "Description       6864.0  4730.0           31.117707   3.073677e-04\n",
       "Content          11417.0   177.0          235.334554   5.688149e-07\n",
       "Installation      9196.0  2398.0           69.764601  2.431708e-122\n",
       "Usage             7979.0  3615.0           84.994005  1.496760e-161\n",
       "Contributing     10974.0   620.0          172.603217   6.975787e-68\n",
       "Credicts         11188.0   406.0           66.011875   7.617424e-23\n",
       "License          10123.0  1471.0          140.560238  5.557509e-147"
      ]
     },
     "execution_count": 47,
     "metadata": {},
     "output_type": "execute_result"
    }
   ],
   "source": [
    "plot_guidelines_table(df_data_raw).T"
   ]
  },
  {
   "cell_type": "code",
   "execution_count": null,
   "id": "8d44e274",
   "metadata": {},
   "outputs": [],
   "source": []
  },
  {
   "cell_type": "code",
   "execution_count": null,
   "id": "1d748a0e",
   "metadata": {},
   "outputs": [],
   "source": []
  },
  {
   "cell_type": "code",
   "execution_count": null,
   "id": "6bfe2830",
   "metadata": {},
   "outputs": [],
   "source": []
  },
  {
   "cell_type": "code",
   "execution_count": null,
   "id": "58ddc7d2",
   "metadata": {},
   "outputs": [],
   "source": []
  },
  {
   "cell_type": "code",
   "execution_count": null,
   "id": "2debbe1c",
   "metadata": {},
   "outputs": [],
   "source": []
  },
  {
   "cell_type": "code",
   "execution_count": 48,
   "id": "8d76237c",
   "metadata": {},
   "outputs": [],
   "source": [
    "def cliffsDelta(lst1, lst2, **dull):\n",
    "    \"\"\"Returns delta and true if there are more than 'dull' differences\"\"\"\n",
    "    if not dull:\n",
    "        dull = {'small': 0.147, 'medium': 0.33, 'large': 0.474}  # effect sizes from (Hess and Kromrey, 2004)\n",
    "    m, n = len(lst1), len(lst2)\n",
    "    lst2 = sorted(lst2)\n",
    "    j = more = less = 0\n",
    "    for repeats, x in runs(sorted(lst1)):\n",
    "        while j <= (n - 1) and lst2[j] < x:\n",
    "            j += 1\n",
    "        more += j * repeats\n",
    "        while j <= (n - 1) and lst2[j] == x:\n",
    "            j += 1\n",
    "        less += (n - j) * repeats\n",
    "    d = (more - less) / (m * n)\n",
    "    size = lookup_size(d, dull)\n",
    "    return d, size\n",
    "\n",
    "\n",
    "def lookup_size(delta: float, dull: dict) -> str:\n",
    "    \"\"\"\n",
    "    :type delta: float\n",
    "    :type dull: dict, a dictionary of small, medium, large thresholds.\n",
    "    \"\"\"\n",
    "    delta = abs(delta)\n",
    "    if delta < dull['small']:\n",
    "        return 'negligible'\n",
    "    if dull['small'] <= delta < dull['medium']:\n",
    "        return 'small'\n",
    "    if dull['medium'] <= delta < dull['large']:\n",
    "        return 'medium'\n",
    "    if delta >= dull['large']:\n",
    "        return 'large'\n",
    "\n",
    "\n",
    "def runs(lst):\n",
    "    \"\"\"Iterator, chunks repeated values\"\"\"\n",
    "    for j, two in enumerate(lst):\n",
    "        if j == 0:\n",
    "            one, i = two, 0\n",
    "        if one != two:\n",
    "            yield j - i, one\n",
    "            i = j\n",
    "        one = two\n",
    "    yield j - i + 1, two\n",
    "\n",
    "\n",
    "# effect size\n",
    "\n",
    "\n",
    "def gh_guidelines_description2(df):\n",
    "    # Description\n",
    "    t = df.copy()\n",
    "    t['description'] = t.apply(\n",
    "        lambda x: 1 if x.project_name_header_non_empty == 1 or x.description_header_kw == 1 else 0, axis=1)\n",
    "    #   t['description'] = t.apply(lambda x: 1 if x.project_name_header_non_empty == 1 or x.description_header_kw == 1 or x.feature_header_kw == 1 else 0, axis = 1)\n",
    "    #   t['description'] = t.apply(lambda x: 1 if x.description_header_kw == 1 else 0, axis = 1)\n",
    "    return t.groupby('description')\n",
    "\n",
    "\n",
    "def gh_guidelines_content2(df):\n",
    "    t = df.copy()\n",
    "    return t.groupby('content_header_kw')\n",
    "\n",
    "\n",
    "def gh_guidelines_installation2(df):\n",
    "    # Installation\n",
    "    t = df.copy()\n",
    "    t['installation'] = t.apply(lambda x: 1 if x.install_header_kw == 1 else 0, axis=1)\n",
    "    return t.groupby('installation')\n",
    "\n",
    "\n",
    "def gh_guidelines_usage2(df):\n",
    "    # Usage\n",
    "    t = df.copy()\n",
    "    t['usage'] = t.apply(lambda\n",
    "                             x: 1 if x.usage_header_kw == 1 or x.example_header_kw == 1 or x.document_header_kw == 1 or x.troubleshoot_header_kw == 1 else 0,\n",
    "                         axis=1)\n",
    "    return t.groupby('usage')\n",
    "\n",
    "\n",
    "def gh_guidelines_contributing2(df):\n",
    "    # Contributing\n",
    "    t = df.copy()\n",
    "    t['contribution'] = t.apply(lambda x: 1 if x.contribut_header_kw == 1 else 0, axis=1)\n",
    "    return t.groupby('contribution')\n",
    "\n",
    "\n",
    "def gh_guidelines_credicts2(df):\n",
    "    # Credicts\n",
    "    t = df.copy()\n",
    "    t['credits'] = t.apply(lambda x: 1 if x.credit_header_kw == 1 or x.author_header_kw == 1 else 0, axis=1)\n",
    "    return t.groupby('credits')\n",
    "\n",
    "\n",
    "def gh_guidelines_license2(df):\n",
    "    # License\n",
    "    return df.groupby('license_header_kw')\n"
   ]
  },
  {
   "cell_type": "code",
   "execution_count": 49,
   "id": "049b4816",
   "metadata": {},
   "outputs": [
    {
     "data": {
      "text/plain": [
       "(0.0393770913723345, 'negligible')"
      ]
     },
     "execution_count": 49,
     "metadata": {},
     "output_type": "execute_result"
    }
   ],
   "source": [
    "cliffsDelta(gh_guidelines_description2(df_data).get_group(1).stars.values.tolist(),\n",
    "            gh_guidelines_description2(df_data).get_group(0).stars.values.tolist())"
   ]
  },
  {
   "cell_type": "code",
   "execution_count": 23,
   "id": "445677a1",
   "metadata": {},
   "outputs": [
    {
     "data": {
      "text/plain": [
       "(0.21873269566792308, 'small')"
      ]
     },
     "execution_count": 23,
     "metadata": {},
     "output_type": "execute_result"
    }
   ],
   "source": [
    "cliffsDelta(gh_guidelines_content2(df_data).get_group(1).stars.values.tolist(),\n",
    "            gh_guidelines_content2(df_data).get_group(0).stars.values.tolist())"
   ]
  },
  {
   "cell_type": "code",
   "execution_count": 24,
   "id": "f7bc0145",
   "metadata": {},
   "outputs": [
    {
     "data": {
      "text/plain": [
       "(0.3114039773611546, 'small')"
      ]
     },
     "execution_count": 24,
     "metadata": {},
     "output_type": "execute_result"
    }
   ],
   "source": [
    "cliffsDelta(gh_guidelines_installation2(df_data).get_group(1).stars.values.tolist(),\n",
    "            gh_guidelines_installation2(df_data).get_group(0).stars.values.tolist())"
   ]
  },
  {
   "cell_type": "code",
   "execution_count": 25,
   "id": "4b224185",
   "metadata": {},
   "outputs": [
    {
     "data": {
      "text/plain": [
       "(0.31352213114057875, 'small')"
      ]
     },
     "execution_count": 25,
     "metadata": {},
     "output_type": "execute_result"
    }
   ],
   "source": [
    "cliffsDelta(gh_guidelines_usage2(df_data).get_group(1).stars.values.tolist(),\n",
    "            gh_guidelines_usage2(df_data).get_group(0).stars.values.tolist())"
   ]
  },
  {
   "cell_type": "code",
   "execution_count": 26,
   "id": "a8fdda5e",
   "metadata": {},
   "outputs": [
    {
     "data": {
      "text/plain": [
       "(0.41494015179574006, 'medium')"
      ]
     },
     "execution_count": 26,
     "metadata": {},
     "output_type": "execute_result"
    }
   ],
   "source": [
    "cliffsDelta(gh_guidelines_contributing2(df_data).get_group(1).stars.values.tolist(),\n",
    "            gh_guidelines_contributing2(df_data).get_group(0).stars.values.tolist())"
   ]
  },
  {
   "cell_type": "code",
   "execution_count": 27,
   "id": "9f1a3c13",
   "metadata": {},
   "outputs": [
    {
     "data": {
      "text/plain": [
       "(0.287014279902288, 'small')"
      ]
     },
     "execution_count": 27,
     "metadata": {},
     "output_type": "execute_result"
    }
   ],
   "source": [
    "cliffsDelta(gh_guidelines_credicts2(df_data).get_group(1).stars.values.tolist(),\n",
    "            gh_guidelines_credicts2(df_data).get_group(0).stars.values.tolist())"
   ]
  },
  {
   "cell_type": "code",
   "execution_count": 28,
   "id": "04b66039",
   "metadata": {},
   "outputs": [
    {
     "data": {
      "text/plain": [
       "(0.4159466703664572, 'medium')"
      ]
     },
     "execution_count": 28,
     "metadata": {},
     "output_type": "execute_result"
    }
   ],
   "source": [
    "cliffsDelta(gh_guidelines_license2(df_data).get_group(1).stars.values.tolist(),\n",
    "            gh_guidelines_license2(df_data).get_group(0).stars.values.tolist())"
   ]
  },
  {
   "cell_type": "code",
   "execution_count": null,
   "id": "eaba283f",
   "metadata": {},
   "outputs": [],
   "source": []
  },
  {
   "cell_type": "code",
   "execution_count": 29,
   "id": "376a61c0",
   "metadata": {},
   "outputs": [
    {
     "data": {
      "text/plain": [
       "<pandas.core.groupby.generic.DataFrameGroupBy object at 0x000002554586A670>"
      ]
     },
     "execution_count": 29,
     "metadata": {},
     "output_type": "execute_result"
    }
   ],
   "source": [
    "gh_guidelines_description2(df_data)"
   ]
  },
  {
   "cell_type": "code",
   "execution_count": null,
   "id": "674f6c2e",
   "metadata": {},
   "outputs": [],
   "source": []
  },
  {
   "cell_type": "code",
   "execution_count": null,
   "id": "6b1be2e2",
   "metadata": {},
   "outputs": [],
   "source": []
  },
  {
   "cell_type": "code",
   "execution_count": 7,
   "id": "c9e7eee1",
   "metadata": {},
   "outputs": [],
   "source": [
    "figure3_order = df_data[df_data.follow==True].groupby('metrics')['stars'].median().sort_values(ascending=False).index.values"
   ]
  },
  {
   "cell_type": "code",
   "execution_count": 10,
   "id": "404a65ee",
   "metadata": {},
   "outputs": [
    {
     "data": {
      "text/plain": [
       "Text(0, 0.5, 'Stars')"
      ]
     },
     "execution_count": 10,
     "metadata": {},
     "output_type": "execute_result"
    },
    {
     "data": {
      "image/png": "[encoded data removed]",
      "text/plain": [
       "<Figure size 864x576 with 1 Axes>"
      ]
     },
     "metadata": {
      "needs_background": "light"
     },
     "output_type": "display_data"
    }
   ],
   "source": [
    "plt.rcParams.update({'font.size': 20})\n",
    "plt.figure(figsize=(12, 8))\n",
    "# sns.set(rc={'figure.figsize':(20,8),\"font.size\":20,\"axes.titlesize\":20,\"axes.labelsize\":20},style=\"white\")\n",
    "ax = sns.boxplot(x=\"metrics\", y=\"stars\", hue=\"follow\", data=df_data, palette=sns.color_palette(\"gray\", n_colors=2), showfliers=False, order=figure3_order)\n",
    "# ax.legend_.remove()\n",
    "plt.setp(ax.get_xticklabels(), rotation=45)\n",
    "handles, labels = ax.get_legend_handles_labels()\n",
    "\n",
    "\n",
    "plt.legend(handles[0:2], ['Not Included', 'Included'])\n",
    "plt.xlabel('')\n",
    "plt.ylabel('Stars')\n",
    "\n",
    "# plt.savefig('this_is_a_path/figure3_sorted.pdf', format='pdf', bbox_inches = 'tight', pad_inches = 0.1)"
   ]
  },
  {
   "cell_type": "code",
   "execution_count": null,
   "id": "b1543a0d",
   "metadata": {},
   "outputs": [],
   "source": []
  }
 ],
 "metadata": {
  "kernelspec": {
   "display_name": "Python 3 (ipykernel)",
   "language": "python",
   "name": "python3"
  },
  "language_info": {
   "codemirror_mode": {
    "name": "ipython",
    "version": 3
   },
   "file_extension": ".py",
   "mimetype": "text/x-python",
   "name": "python",
   "nbconvert_exporter": "python",
   "pygments_lexer": "ipython3",
   "version": "3.8.11"
  }
 },
 "nbformat": 4,
 "nbformat_minor": 5
}
